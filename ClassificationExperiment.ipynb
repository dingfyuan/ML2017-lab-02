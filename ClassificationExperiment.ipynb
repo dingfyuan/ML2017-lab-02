{
 "cells": [
  {
   "cell_type": "code",
   "execution_count": 1,
   "metadata": {
    "collapsed": true
   },
   "outputs": [],
   "source": [
    "from sklearn.datasets import load_svmlight_file\n",
    "import numpy as np\n",
    "from sklearn.model_selection import train_test_split\n",
    "from matplotlib import pyplot "
   ]
  },
  {
   "cell_type": "code",
   "execution_count": 2,
   "metadata": {
    "collapsed": true
   },
   "outputs": [],
   "source": [
    "#compute the  Loss\n",
    "def loss(w, x, y):\n",
    "    c=0.9\n",
    "    loss_sum = 0\n",
    "    for i in range(len(y)):  \n",
    "        temp = y[i][0] * np.dot(x[i], w).sum()\n",
    "        if temp < 1:\n",
    "            loss_sum += 1 - temp\n",
    "    loss_sum *= c\n",
    "    W = 0 \n",
    "    for var in w:\n",
    "        W += var**2\n",
    "    loss_sum += W/2\n",
    "  #  print(loss_sum.shape)\n",
    "    return loss_sum / y.shape[0]"
   ]
  },
  {
   "cell_type": "code",
   "execution_count": 3,
   "metadata": {},
   "outputs": [],
   "source": [
    "#compute the gradient\n",
    "def gradient(w, x, y):\n",
    "    i = np.random.randint(0, y.shape[0])\n",
    "    grad_sum = np.zeros(w.shape)\n",
    "    c = 0.9\n",
    "    # compute wx\n",
    "    temp = np.dot(x[i], w)\n",
    "\n",
    "    if y[i][0] * temp < 1:\n",
    "        grad_sum += (y[i][0] * x[i] * c).reshape(grad_sum.shape)\n",
    "\n",
    "    gradient = w - grad_sum\n",
    "    #print(gradient)\n",
    "    return gradient\n"
   ]
  },
  {
   "cell_type": "code",
   "execution_count": 4,
   "metadata": {},
   "outputs": [],
   "source": [
    "#compute the accuracy\n",
    "def predict(w, x, y,threshold):\n",
    "    temp = np.dot(x,w)\n",
    "    y_pred=np.zeros(temp.shape)\n",
    "    y_pred[temp> threshold]=1;\n",
    "    y_pred[temp<=threshold]=-1;\n",
    "    cmp=(y_pred == y)\n",
    "    accuracy=len(cmp[cmp==True])/len(cmp)\n",
    "    return accuracy "
   ]
  },
  {
   "cell_type": "code",
   "execution_count": 5,
   "metadata": {},
   "outputs": [],
   "source": [
    "# NAG method\n",
    "def nag(W,x_train,y_train,x_test,y_test,alpha,iterations):\n",
    "   #  n,m=x_train.shape\n",
    "   #  W = np.zeros((m,1)) # weights\n",
    "    pre_d = np.zeros_like(W)\n",
    "    pre_grad = np.zeros_like(W)\n",
    "    gamma =0.9 # momentum factor \n",
    "    loss_nag =[]\n",
    "    loss_nag_train=[]\n",
    "    for t in range(iterations):     \n",
    "        loss_train=loss(W,x_train,y_train)\n",
    "        loss_validation=loss(W,x_test,y_test)\n",
    "        grad=gradient(W,x_train,y_train)\n",
    "        loss_nag.append (loss_validation)\n",
    "        loss_nag_train.append(loss_validation)\n",
    "        # udate parameter\n",
    "        d  = gamma * pre_d  + grad + gamma * (grad - pre_grad)\n",
    "        dW = -alpha * d\n",
    "        W += dW \n",
    "        pre_d = d\n",
    "        pre_grad = grad\n",
    "\n",
    "    loss_nag=np.array(loss_nag)\n",
    "    loss_nag=loss_nag[:,:,0]\n",
    "    loss_nag_train=np.array(loss_nag_train)\n",
    "    loss_nag_train=loss_nag_train[:,:,0]\n",
    "    training_accuracy_nag = predict(W , x_train, y_train,0)\n",
    "    test_accuracy_nag = predict(W , x_test, y_test,0)\n",
    "    return loss_nag,loss_nag_train,test_accuracy_nag,training_accuracy_nag\n"
   ]
  },
  {
   "cell_type": "code",
   "execution_count": 6,
   "metadata": {},
   "outputs": [],
   "source": [
    "# RMSProp  \n",
    "def rmsprop(W,x_train,y_train,x_test,y_test,alpha,iterations):\n",
    "   #  n,m=x_train.shape\n",
    "   #  W = np.zeros((m,1)) # weights\n",
    "    n = np.zeros_like(W)\n",
    "    gamma =0.9 # decay factor \n",
    "    epsilon = 0.001 \n",
    "    loss_rms =[]  # validation loss\n",
    "    loss_rms_train=[]\n",
    "    for i in range(iterations):\n",
    "        loss_train=loss(W,x_train,y_train)\n",
    "        loss_validation=loss(W,x_test,y_test)\n",
    "        grad=gradient(W,x_train,y_train)\n",
    "        loss_rms.append (loss_validation)\n",
    "        loss_rms_train.append(loss_train)\n",
    "        # update parameter\n",
    "        n = gamma * n + (1-gamma) * np.power(grad,2)\n",
    "        dW = -alpha /np.sqrt(n + epsilon ) * grad\n",
    "        W += dW \n",
    "    \n",
    "    loss_rms=np.array(loss_rms)\n",
    "    loss_rms=loss_rms[:,:,0]\n",
    "    loss_rms_train=np.array(loss_rms_train)\n",
    "    loss_rms_train=loss_rms_train[:,:,0]\n",
    "    training_accuracy_rms =predict(W , x_train, y_train,0)\n",
    "    test_accuracy_rms =predict(W , x_test, y_test,0)\n",
    "    return loss_rms,loss_rms_train,test_accuracy_rms,training_accuracy_rms"
   ]
  },
  {
   "cell_type": "code",
   "execution_count": 7,
   "metadata": {},
   "outputs": [],
   "source": [
    "# AdaDelta   \n",
    "def adaDelta(W,x_train,y_train,x_test,y_test,iterations):   \n",
    "  #   n,m=x_train.shape\n",
    "   #  W = np.zeros((m,1)) # weights\n",
    "    E_g2 = np.zeros_like(W)\n",
    "    E_dW2 = np.zeros_like(W)\n",
    "    gamma =0.95 \n",
    "    epsilon = 1e-6# \n",
    "    loss_adad =[]  \n",
    "    loss_adad_train=[]\n",
    "    for t in range(iterations):\n",
    "\n",
    "        loss_train=loss(W,x_train,y_train)\n",
    "        loss_validation=loss(W,x_test,y_test)\n",
    "        grad=gradient(W,x_train,y_train)\n",
    "        loss_adad.append (loss_validation)\n",
    "        loss_adad_train.append(loss_train)\n",
    "        # update parameter\n",
    "        E_g2 = gamma * E_g2 + (1-gamma) * np.power(grad,2)\n",
    "        dW = - np.sqrt(E_dW2+epsilon) / np.sqrt(E_g2+epsilon) * grad    \n",
    "        W += dW \n",
    "        E_dW2 = gamma * E_dW2 + (1-gamma) * np.power(dW , 2)\n",
    "    \n",
    "    loss_adad=np.array(loss_adad)\n",
    "    loss_adad=loss_adad[:,:,0]\n",
    "    loss_adad_train=np.array(loss_adad_train)\n",
    "    loss_adad_train=loss_adad_train[:,:,0]\n",
    "    training_accuracy_adad = predict(W, x_train, y_train,0)\n",
    "    test_accuracy_adad = predict(W, x_test, y_test,0)\n",
    "    return loss_adad,loss_adad_train,test_accuracy_adad,training_accuracy_adad"
   ]
  },
  {
   "cell_type": "code",
   "execution_count": 8,
   "metadata": {},
   "outputs": [],
   "source": [
    "# Adam method\n",
    "def adam(W,x_train,y_train,x_test,y_test,alpha,iterations):  \n",
    "    n = np.zeros_like(W)\n",
    "    m = np.zeros_like(W)\n",
    "    beta = 0.9 \n",
    "    gamma = 0.9  \n",
    "    epsilon = 1e-3 \n",
    "    loss_adam=[]  \n",
    "    loss_adam_train=[]\n",
    "    for i in range(iterations):\n",
    "        loss_train=loss(W,x_train,y_train)\n",
    "        loss_validation=loss(W,x_test,y_test)\n",
    "        grad=gradient(W,x_train,y_train)\n",
    "        loss_adam.append (loss_validation)\n",
    "        loss_adam_train.append(loss_train)\n",
    "        # update paratemer\n",
    "        m = beta * m + (1-beta) * grad \n",
    "        n = gamma  * n + (1-gamma) * np.power(grad,2) \n",
    "        m_hat = m / (1-np.power(beta,i)+epsilon) \n",
    "        n_hat = n / (1-np.power(gamma,i)+epsilon)\n",
    "        W -= m_hat * alpha /(np.sqrt(n_hat) + epsilon)   \n",
    "    loss_adam=np.array(loss_adam)\n",
    "    loss_adam=loss_adam[:,:,0]\n",
    "    loss_adam_train=np.array(loss_adam_train)\n",
    "    loss_adam_train=loss_adam_train[:,:,0]\n",
    "    training_accuracy_adam = predict(W, x_train, y_train,0)\n",
    "    test_accuracy_adam = predict(W, x_test, y_test,0)\n",
    "    return loss_adam,loss_adam_train,test_accuracy_adam,training_accuracy_adam\n",
    "    \n"
   ]
  },
  {
   "cell_type": "code",
   "execution_count": 9,
   "metadata": {},
   "outputs": [
    {
     "name": "stdout",
     "output_type": "stream",
     "text": [
      "(32561, 1)\n",
      "(32561, 124)\n",
      "(16281, 1)\n",
      "(16281, 124)\n"
     ]
    }
   ],
   "source": [
    "# Load the experiment data\n",
    "data=load_svmlight_file(r'a9a')\n",
    "data_test=load_svmlight_file(r'a9a_test')\n",
    "y=data[1]\n",
    "X=data[0]\n",
    "X=X.todense()\n",
    "y=np.reshape(y,(len(y),1))\n",
    "y=np.mat(y)\n",
    "X=np.hstack((X,np.ones((len(y),1))))\n",
    "\n",
    "y_test=data_test[1]\n",
    "X_test=data_test[0]\n",
    "X_test=X_test.todense()\n",
    "y_test=np.reshape(y_test,((len(y_test),1)))\n",
    "y_test=np.mat(y_test)\n",
    "X_test=np.hstack((X_test,np.zeros((len(y_test),1))))\n",
    "X_test=np.hstack((X_test,np.zeros((len(y_test),1))))\n",
    "print(y.shape)\n",
    "print(X.shape)\n",
    "print(y_test.shape)\n",
    "print(X_test.shape)"
   ]
  },
  {
   "cell_type": "code",
   "execution_count": 19,
   "metadata": {},
   "outputs": [],
   "source": [
    "# Initialize parameter   \n",
    "iterations=20\n",
    "alpha = 0.001# learning rate\n",
    "alpha_nag = 0.001# learning rate\n",
    "alpha_rms=0.001\n",
    "alpha_adam=0.01\n",
    "n,m=X.shape\n",
    "x_train=X\n",
    "y_train=y\n",
    "x_test=X_test\n",
    "W = np.zeros((m,1)) # weights\n",
    "loss_nag,loss_nag_train,accuracy_nag,accuracy_nag_train=nag(W,x_train, y_train, x_test, y_test,alpha_nag,iterations)\n",
    "W = np.zeros((m,1)) # weights\n",
    "loss_rms,loss_rms_train,accuracy_rms,accuracy_rms_train=rmsprop(W,x_train, y_train, x_test, y_test,alpha_rms,iterations)\n",
    "W = np.zeros((m,1)) # weights\n",
    "loss_adad,loss_adad_train,accuracy_adad,accuracy_adad_train=adaDelta(W,x_train, y_train, x_test, y_test,iterations)\n",
    "W = np.zeros((m,1)) # weights\n",
    "loss_adam,loss_adam_train,accuracy_adam,accuracy_adam_train=adam(W,x_train, y_train, x_test, y_test,alpha_adam,iterations)"
   ]
  },
  {
   "cell_type": "code",
   "execution_count": 20,
   "metadata": {},
   "outputs": [
    {
     "name": "stdout",
     "output_type": "stream",
     "text": [
      "training accuracy_nag= 3.071158748195694e-05   testing accuracy_nag= 6.142128861863522e-05\n",
      "\n",
      "training accuracy_rms= 3.071158748195694e-05   testing accuracy_rms= 6.142128861863522e-05\n",
      "\n",
      "training accuracy_adad= 3.071158748195694e-05   testing accuracy_adad= 6.142128861863522e-05\n",
      "\n",
      "training accuracy_adam= 3.071158748195694e-05   testing accuracy_adam= 6.142128861863522e-05\n"
     ]
    },
    {
     "data": {
      "image/png": "[encoded data removed]",
      "text/plain": [
       "<matplotlib.figure.Figure at 0xb9648d0>"
      ]
     },
     "metadata": {},
     "output_type": "display_data"
    }
   ],
   "source": [
    "print('training accuracy_nag=',accuracy_nag_train,'  testing accuracy_nag=',accuracy_nag)\n",
    "print('\\ntraining accuracy_rms=',accuracy_rms_train,'  testing accuracy_rms=',accuracy_rms)\n",
    "print('\\ntraining accuracy_adad=',accuracy_adad_train,'  testing accuracy_adad=',accuracy_adad)\n",
    "print('\\ntraining accuracy_adam=',accuracy_adam_train,'  testing accuracy_adam=',accuracy_adam)\n",
    "pyplot.plot(loss_nag,'blue',label='L_NAG')\n",
    "pyplot.plot(loss_rms,'red',label='L_RMSProp')\n",
    "pyplot.plot(loss_adad,'yellow',label='L_AdaDelta')\n",
    "pyplot.plot(loss_adam,'green',label='L_adam')\n",
    "pyplot.title('Loss Curve')              \n",
    "pyplot.xlabel('Rounds')\n",
    "pyplot.ylabel('Testing Loss')\n",
    "pyplot.legend()\n",
    "pyplot.show()"
   ]
  },
  {
   "cell_type": "code",
   "execution_count": 21,
   "metadata": {},
   "outputs": [
    {
     "data": {
      "image/png": "[encoded data removed]",
      "text/plain": [
       "<matplotlib.figure.Figure at 0xb935748>"
      ]
     },
     "metadata": {},
     "output_type": "display_data"
    }
   ],
   "source": [
    "pyplot.plot(loss_nag_train,'blue',label='L_NAG')\n",
    "pyplot.plot(loss_rms_train,'red',label='L_RMSProp')\n",
    "pyplot.plot(loss_adad_train,'yellow',label='L_AdaDelta')\n",
    "pyplot.plot(loss_adam_train,'green',label='L_adam')\n",
    "pyplot.title('Loss Curve') \n",
    "pyplot.xlabel('Rounds')\n",
    "pyplot.ylabel('Training Loss')\n",
    "pyplot.legend()\n",
    "pyplot.show()"
   ]
  },
  {
   "cell_type": "code",
   "execution_count": null,
   "metadata": {},
   "outputs": [],
   "source": []
  },
  {
   "cell_type": "code",
   "execution_count": null,
   "metadata": {},
   "outputs": [],
   "source": []
  }
 ],
 "metadata": {
  "kernelspec": {
   "display_name": "Python 3",
   "language": "python",
   "name": "python3"
  },
  "language_info": {
   "codemirror_mode": {
    "name": "ipython",
    "version": 3
   },
   "file_extension": ".py",
   "mimetype": "text/x-python",
   "name": "python",
   "nbconvert_exporter": "python",
   "pygments_lexer": "ipython3",
   "version": "3.6.3"
  }
 },
 "nbformat": 4,
 "nbformat_minor": 2
}
