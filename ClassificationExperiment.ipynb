{
 "cells": [
  {
   "cell_type": "code",
   "execution_count": 1,
   "metadata": {
    "collapsed": true
   },
   "outputs": [],
   "source": [
    "from sklearn.datasets import load_svmlight_file\n",
    "import numpy as np\n",
    "from sklearn.model_selection import train_test_split\n",
    "from matplotlib import pyplot "
   ]
  },
  {
   "cell_type": "code",
   "execution_count": 2,
   "metadata": {
    "collapsed": true
   },
   "outputs": [],
   "source": [
    "#compute the  Loss\n",
    "def loss(w, x, y):\n",
    "    c=0.9\n",
    "    loss_sum = 0\n",
    "    for i in range(len(y)):  \n",
    "        temp = y[i][0] * np.dot(x[i], w).sum()\n",
    "        if temp < 1:\n",
    "            loss_sum += 1 - temp\n",
    "    loss_sum *= c\n",
    "    W = 0 \n",
    "    for var in w:\n",
    "        W += var**2\n",
    "    loss_sum += W/2\n",
    "    return loss_sum / y.shape[0]"
   ]
  },
  {
   "cell_type": "code",
   "execution_count": 3,
   "metadata": {},
   "outputs": [],
   "source": [
    "#compute the gradient\n",
    "def gradient(w, x, y):\n",
    "    i = np.random.randint(0, y.shape[0])\n",
    "    grad_sum = np.zeros(w.shape)\n",
    "    c = 0.9\n",
    "\n",
    "    # compute wx\n",
    "    temp = np.dot(x[i], w)\n",
    "\n",
    "    if y[i][0] * temp < 1:\n",
    "        grad_sum += (y[i][0] * x[i] * c).reshape(grad_sum.shape)\n",
    "\n",
    "    gradient = w - grad_sum\n",
    "    #print(gradient)\n",
    "    return gradient\n"
   ]
  },
  {
   "cell_type": "code",
   "execution_count": 4,
   "metadata": {},
   "outputs": [],
   "source": [
    "# NAG method\n",
    "def nag(W,x_train,y_train,x_test,y_test,alpha,iterations):\n",
    "   #  n,m=x_train.shape\n",
    "   #  W = np.zeros((m,1)) # weights\n",
    "    pre_d = np.zeros_like(W)\n",
    "    pre_grad = np.zeros_like(W)\n",
    "    gamma =0.9 # momentum factor \n",
    "    loss_nag =[]; \n",
    "    for i in range(iterations):     \n",
    "        loss_train=loss(W,x_train,y_train)\n",
    "        loss_validation=loss(W,x_test,y_test)\n",
    "        grad=gradient(W,x_train,y_train)\n",
    "        loss_nag.append (loss_validation)\n",
    "  \n",
    "        # udate parameter\n",
    "        d  = gamma * pre_d  + grad + gamma * (grad - pre_grad)\n",
    "        dW = -alpha * d\n",
    "        W += dW \n",
    "        pre_d = d\n",
    "        pre_grad = grad\n",
    "    \n",
    "    loss_nag=np.array(loss_nag)\n",
    "    #print(loss_nag)\n",
    "   # loss_nag=loss_nag[:,:,0]\n",
    "\n",
    "    return loss_nag\n"
   ]
  },
  {
   "cell_type": "code",
   "execution_count": 5,
   "metadata": {},
   "outputs": [],
   "source": [
    "# RMSProp  \n",
    "def rmsprop(W,x_train,y_train,x_test,y_test,alpha,iterations):\n",
    "   #  n,m=x_train.shape\n",
    "   #  W = np.zeros((m,1)) # weights\n",
    "    n = np.zeros_like(W)\n",
    "    gamma =0.9 # decay factor \n",
    "    epsilon = 0.001 # in case of the denominator equaling to 0\n",
    "    loss_rms =[]  # validation loss\n",
    "\n",
    "    for t in range(iterations):\n",
    "        loss_train=loss(W,x_train,y_train)\n",
    "        loss_validation=loss(W,x_test,y_test)\n",
    "        grad=gradient(W,x_train,y_train)\n",
    "        loss_rms.append (loss_validation)\n",
    "    \n",
    "        # update parameter\n",
    "        n = gamma * n + (1-gamma) * np.power(grad,2)\n",
    "        dW = -alpha /np.sqrt(n + epsilon ) * grad\n",
    "        W += dW \n",
    "    \n",
    "    loss_rms=np.array(loss_rms)\n",
    "   # loss_rms=loss_rms[:,:,0]\n",
    "    return loss_rms"
   ]
  },
  {
   "cell_type": "code",
   "execution_count": 6,
   "metadata": {},
   "outputs": [],
   "source": [
    "# AdaDelta   \n",
    "def adaDelta(W,x_train,y_train,x_test,y_test,iterations):   \n",
    "  #   n,m=x_train.shape\n",
    "   #  W = np.zeros((m,1)) # weights\n",
    "    E_g2 = np.zeros_like(W)\n",
    "    E_dW2 = np.zeros_like(W)\n",
    "    gamma =0.95 \n",
    "    epsilon = 1e-6# \n",
    "    loss_adad =[]  \n",
    "\n",
    "    for t in range(iterations):\n",
    "\n",
    "        loss_train=loss(W,x_train,y_train)\n",
    "        loss_validation=loss(W,x_test,y_test)\n",
    "        grad=gradient(W,x_train,y_train)\n",
    "        loss_adad.append (loss_validation)\n",
    "        \n",
    "        # update parameter\n",
    "        E_g2 = gamma * E_g2 + (1-gamma) * np.power(grad,2)\n",
    "        dW = - np.sqrt(E_dW2+epsilon) / np.sqrt(E_g2+epsilon) * grad    \n",
    "        W += dW \n",
    "        E_dW2 = gamma * E_dW2 + (1-gamma) * np.power(dW , 2)\n",
    "    \n",
    "    loss_adad=np.array(loss_adad)\n",
    "    #loss_adad=loss_adad[:,:,0]\n",
    "    return loss_adad"
   ]
  },
  {
   "cell_type": "code",
   "execution_count": 7,
   "metadata": {},
   "outputs": [],
   "source": [
    "# Adam method\n",
    "def adam(W,x_train,y_train,x_test,y_test,alpha,iterations):  \n",
    "    n = np.zeros_like(W)\n",
    "    m = np.zeros_like(W)\n",
    "    beta = 0.9 \n",
    "    gamma = 0.9  \n",
    "    epsilon = 1e-3 \n",
    "    loss_adam=[]  \n",
    "\n",
    "    for i in range(iterations):\n",
    "        loss_train=loss(W,x_train,y_train)\n",
    "        loss_validation=loss(W,x_test,y_test)\n",
    "        grad=gradient(W,x_train,y_train)\n",
    "        loss_adam.append (loss_validation)\n",
    "    \n",
    "        # update paratemer\n",
    "        m = beta * m + (1-beta) * grad \n",
    "        n = gamma  * n + (1-gamma) * np.power(grad,2) \n",
    "        m_hat = m / (1-np.power(beta,i)+epsilon) \n",
    "        n_hat = n / (1-np.power(gamma,i)+epsilon)\n",
    "        W -= m_hat * alpha /(np.sqrt(n_hat) + epsilon)   \n",
    "    loss_adam=np.array(loss_adam)\n",
    "    #loss_adam=loss_adam[:,:,0]\n",
    "    return loss_adam\n",
    "    \n"
   ]
  },
  {
   "cell_type": "code",
   "execution_count": 8,
   "metadata": {},
   "outputs": [],
   "source": [
    "# Load the experiment data\n",
    "data=load_svmlight_file(r'a9a')\n",
    "data_test=load_svmlight_file(r'a9a_test')\n",
    "y=data[1]\n",
    "X=data[0]\n",
    "X=X.todense()\n",
    "y=np.reshape(y,(len(y),1))\n",
    "y=np.mat(y)\n",
    "X=np.hstack((X,np.ones((len(y),1))))\n",
    "y_test=data_test[1]\n",
    "X_test=data_test[0]\n",
    "X_test=X_test.todense()\n",
    "y_test=np.reshape(y_test,((len(y_test),1)))\n",
    "X_test=np.hstack((X_test,np.zeros((len(y_test),1))))\n",
    "X_test=np.hstack((X_test,np.ones((len(y_test),1))))"
   ]
  },
  {
   "cell_type": "code",
   "execution_count": 10,
   "metadata": {},
   "outputs": [
    {
     "data": {
      "image/png": "[encoded data removed]",
      "text/plain": [
       "<matplotlib.figure.Figure at 0xa99a0f0>"
      ]
     },
     "metadata": {},
     "output_type": "display_data"
    }
   ],
   "source": [
    "# Initialize parameter   \n",
    "iterations=10\n",
    "alpha = 0.001# learning rate\n",
    "alpha_nag = 0.001# learning rate\n",
    "alpha_rms=0.001\n",
    "alpha_adam=0.001\n",
    "n,m=X.shape\n",
    "x_train=X\n",
    "y_train=y\n",
    "x_test=X_test\n",
    "W = np.zeros((m,1)) # weights\n",
    "loss_nag=nag(W,x_train, y_train, x_test, y_test,alpha_nag,iterations)\n",
    "W = np.zeros((m,1)) # weights\n",
    "loss_rms=rmsprop(W,x_train, y_train, x_test, y_test,alpha_rms,iterations)\n",
    "W = np.zeros((m,1)) # weights\n",
    "loss_adad=adaDelta(W,x_train, y_train, x_test, y_test,iterations)\n",
    "W = np.zeros((m,1)) # weights\n",
    "loss_adam=adam(W,x_train, y_train, x_test, y_test,alpha_adam,iterations)\n",
    "pyplot.plot(loss_nag,'blue',label='L_NAG')\n",
    "pyplot.plot(loss_rms,'red',label='L_RMSProp')\n",
    "pyplot.plot(loss_adad,'yellow',label='L_AdaDelta')\n",
    "pyplot.plot(loss_adam,'green',label='L_adam')\n",
    "pyplot.title('Loss Curve')              \n",
    "pyplot.xlabel('Rounds')\n",
    "pyplot.ylabel('Loss')\n",
    "pyplot.legend()\n",
    "pyplot.show()"
   ]
  },
  {
   "cell_type": "code",
   "execution_count": null,
   "metadata": {},
   "outputs": [],
   "source": []
  },
  {
   "cell_type": "code",
   "execution_count": null,
   "metadata": {},
   "outputs": [],
   "source": []
  },
  {
   "cell_type": "code",
   "execution_count": null,
   "metadata": {},
   "outputs": [],
   "source": []
  }
 ],
 "metadata": {
  "kernelspec": {
   "display_name": "Python 3",
   "language": "python",
   "name": "python3"
  },
  "language_info": {
   "codemirror_mode": {
    "name": "ipython",
    "version": 3
   },
   "file_extension": ".py",
   "mimetype": "text/x-python",
   "name": "python",
   "nbconvert_exporter": "python",
   "pygments_lexer": "ipython3",
   "version": "3.6.3"
  }
 },
 "nbformat": 4,
 "nbformat_minor": 2
}
