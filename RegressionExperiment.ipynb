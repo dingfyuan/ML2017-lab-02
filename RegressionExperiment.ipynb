{
 "cells": [
  {
   "cell_type": "code",
   "execution_count": 1,
   "metadata": {
    "collapsed": true
   },
   "outputs": [],
   "source": [
    "import numpy as np\n",
    "import jupyter\n",
    "from sklearn.datasets import load_svmlight_file\n",
    "from sklearn.model_selection import train_test_split\n",
    "from matplotlib import pyplot \n",
    "import random"
   ]
  },
  {
   "cell_type": "code",
   "execution_count": 2,
   "metadata": {},
   "outputs": [],
   "source": [
    "#compute the logisticRegression Loss\n",
    "def loss(w, x, y):\n",
    "    loss_r=0\n",
    "    xnum=x.shape[1]\n",
    "    z=1./(1+np.exp( -np.dot(w.T,x)))\n",
    "    loss_r=-1/xnum *(np.dot(np.log(z),y.T)+np.dot(np.log(1.0-z),(1-y).T))\n",
    "    return loss_r"
   ]
  },
  {
   "cell_type": "code",
   "execution_count": 3,
   "metadata": {},
   "outputs": [],
   "source": [
    "#compute the gradient\n",
    "def gradient(w,x,y):\n",
    "    grad_num=10\n",
    "    xnum=x.shape[1]\n",
    "    index=random.sample(range(0,xnum),grad_num)\n",
    "    x_eg=x[:,index]\n",
    "    y_eg=y[:,index] \n",
    "    grad = np.zeros(w.shape)  \n",
    "    z= 1./(1+np.exp( -np.dot(w.T ,x)))\n",
    "    z_eg=z[:,index]\n",
    "    dz = z_eg-y_eg\n",
    "    grad = 1/xnum * np.dot(x_eg, dz.T) \n",
    "    return grad"
   ]
  },
  {
   "cell_type": "code",
   "execution_count": 4,
   "metadata": {},
   "outputs": [],
   "source": [
    "def sigmoid(W , X, y ,threshold):\n",
    "    z= np.dot(W.T ,X)\n",
    "    temp= 1./(1+np.exp( -z))\n",
    "    y_pred=np.zeros(temp.shape)\n",
    "    y_pred[temp> threshold]=1;\n",
    "    y_pred[temp<=threshold]=0;\n",
    "    cmp=y_pred==y\n",
    "    accuracy=len(cmp[cmp==True])/y.shape[1]\n",
    "    return y_pred,accuracy "
   ]
  },
  {
   "cell_type": "code",
   "execution_count": 5,
   "metadata": {},
   "outputs": [],
   "source": [
    "# NAG method\n",
    "def nag(W,x_train,y_train,x_test,y_test,alpha,iterations):\n",
    "    pre_d = np.zeros_like(W)\n",
    "    pre_grad = np.zeros_like(W)\n",
    "    gamma =0.9 # momentum factor \n",
    "    loss_nag =[]\n",
    "    loss_nag_train=[]\n",
    "    for t in range(iterations):     \n",
    "        loss_train=loss(W,x_train,y_train)\n",
    "        loss_validation=loss(W,x_test,y_test)\n",
    "        grad=gradient(W,x_train,y_train)\n",
    "        loss_nag.append (loss_validation)\n",
    "        loss_nag_train.append(loss_validation)\n",
    "        # udate parameter\n",
    "        d  = gamma * pre_d  + grad + gamma * (grad - pre_grad)\n",
    "        dW = -alpha * d\n",
    "        W += dW \n",
    "        pre_d = d\n",
    "        pre_grad = grad\n",
    "    \n",
    "    loss_nag=np.array(loss_nag)\n",
    "    loss_nag=loss_nag[:,:,0]\n",
    "    loss_nag_train=np.array(loss_nag_train)\n",
    "    loss_nag_train=loss_nag_train[:,:,0]\n",
    "    y_pred_NAG_train,training_accuracy_NAG =sigmoid(W , x_train, y_train ,threshold)\n",
    "    y_pred_NAG_test,test_accuracy_NAG=sigmoid(W , x_test, y_test ,threshold)\n",
    "    return loss_nag,loss_nag_train,test_accuracy_NAG,training_accuracy_NAG\n"
   ]
  },
  {
   "cell_type": "code",
   "execution_count": 6,
   "metadata": {},
   "outputs": [],
   "source": [
    "# RMSProp method\n",
    "def rmsprop(W,x_train,y_train,x_test,y_test,alpha,iterations):\n",
    "    n = np.zeros((x_train.shape[0],y_train.shape[0]))\n",
    "    gamma =0.9 \n",
    "    epsilon = 0.001\n",
    "    loss_rms =[] \n",
    "    loss_rms_train=[]\n",
    "    for i in range(iterations):\n",
    "        loss_train=loss(W,x_train,y_train)\n",
    "        loss_validation=loss(W,x_test,y_test)\n",
    "        grad=gradient(W,x_train,y_train)\n",
    "        loss_rms.append (loss_validation)\n",
    "        loss_rms_train.append(loss_train)\n",
    "        # update parameter\n",
    "        n = gamma * n + (1-gamma) * np.power(grad,2)\n",
    "        dW = -alpha /np.sqrt(n + epsilon ) * grad\n",
    "        W += dW \n",
    "    \n",
    "    loss_rms=np.array(loss_rms)\n",
    "    loss_rms=loss_rms[:,:,0]\n",
    "    loss_rms_train=np.array(loss_rms_train)\n",
    "    loss_rms_train=loss_rms_train[:,:,0]\n",
    "    y_pred_RMSProp_train,training_accuracy_RMSProp =sigmoid(W , x_train, y_train ,threshold)\n",
    "    y_pred_RMSProp_test,test_accuracy_RMSProp =sigmoid(W , x_test, y_test ,threshold)\n",
    "    return loss_rms,loss_rms_train,test_accuracy_RMSProp,training_accuracy_RMSProp"
   ]
  },
  {
   "cell_type": "code",
   "execution_count": 7,
   "metadata": {},
   "outputs": [],
   "source": [
    "# AdaDelta method\n",
    "def adaDelta(W,x_train,y_train,x_test,y_test,iterations):    \n",
    "    E_g2 = np.zeros_like(W)\n",
    "    E_dW2 = np.zeros_like(W)\n",
    "    gamma =0.95 \n",
    "    epsilon = 1e-3# \n",
    "    loss_adad =[]  \n",
    "    loss_adad_train=[]\n",
    "    for t in range(iterations):\n",
    "\n",
    "        loss_train=loss(W,x_train,y_train)\n",
    "        loss_validation=loss(W,x_test,y_test)\n",
    "        grad=gradient(W,x_train,y_train)\n",
    "        loss_adad.append (loss_validation)\n",
    "        loss_adad_train.append(loss_train)\n",
    "        # update parameter\n",
    "        E_g2 = gamma * E_g2 + (1-gamma) * np.power(grad,2)\n",
    "        dW = - np.sqrt(E_dW2+epsilon) / np.sqrt(E_g2+epsilon) * grad    \n",
    "        W += dW \n",
    "        E_dW2 = gamma * E_dW2 + (1-gamma) * np.power(dW , 2)\n",
    "    \n",
    "    loss_adad=np.array(loss_adad)\n",
    "    loss_adad=loss_adad[:,:,0]\n",
    "    loss_adad_train=np.array(loss_adad_train)\n",
    "    loss_adad_train=loss_adad_train[:,:,0]\n",
    "    y_pred_AdaDelta_train,training_accuracy_AdaDelta =sigmoid(W , x_train, y_train ,threshold)\n",
    "    y_pred_AdaDelta_test,test_accuracy_AdaDelta =sigmoid(W , x_test, y_test ,threshold)\n",
    "    return loss_adad,loss_adad_train,test_accuracy_AdaDelta,training_accuracy_AdaDelta"
   ]
  },
  {
   "cell_type": "code",
   "execution_count": 8,
   "metadata": {},
   "outputs": [],
   "source": [
    "# Adam method\n",
    "def adam(W,x_train,y_train,x_test,y_test,alpha,iterations):  \n",
    "    n = np.zeros_like(W)\n",
    "    m = np.zeros_like(W)\n",
    "    beta = 0.9 \n",
    "    gamma = 0.999  \n",
    "    epsilon = 1e-3 \n",
    "    loss_adam=[]  \n",
    "    loss_adam_train=[]\n",
    "    for i in range(iterations):\n",
    "        loss_train=loss(W,x_train,y_train)\n",
    "        loss_validation=loss(W,x_test,y_test)\n",
    "        grad=gradient(W,x_train,y_train)\n",
    "        loss_adam.append (loss_validation)\n",
    "        loss_adam_train.append(loss_train)\n",
    "        # update paratemer\n",
    "        m = beta * m + (1-beta) * grad \n",
    "        n = gamma  * n + (1-gamma) * np.power(grad,2) \n",
    "        m_hat = m / (1-np.power(beta,i)+epsilon) \n",
    "        n_hat = n / (1-np.power(gamma,i)+epsilon)\n",
    "        W -= m_hat * alpha /(np.sqrt(n_hat) + epsilon)   \n",
    "    loss_adam=np.array(loss_adam)\n",
    "    loss_adam=loss_adam[:,:,0]\n",
    "    loss_adam_train=np.array(loss_adam_train)\n",
    "    loss_adam_train=loss_adam_train[:,:,0]\n",
    "    y_pred_Adam_train,training_accuracy_Adam =sigmoid(W , x_train, y_train ,threshold)\n",
    "    y_pred_Adam_test,test_accuracy_Adam =sigmoid(W , x_test, y_test ,threshold)\n",
    "    return loss_adam,loss_adam_train,test_accuracy_Adam,training_accuracy_Adam\n",
    "    \n"
   ]
  },
  {
   "cell_type": "code",
   "execution_count": 9,
   "metadata": {},
   "outputs": [],
   "source": [
    "# Load the experiment data\n",
    "x_train, y_train = load_svmlight_file(\"a9a\")\n",
    "x_test, y_test = load_svmlight_file(\"a9a_test\")\n",
    "\n",
    "x_train=x_train.toarray()\n",
    "x_train=np.column_stack((x_train,np.ones([x_train.shape[0],1]))) #add bias \n",
    "x_train=x_train.T\n",
    "y_train=y_train.reshape(1,len(y_train)) \n",
    "y_train=y_train.astype(np.int)  # float->int\n",
    "y_train[y_train== -1]=0\n",
    "\n",
    "x_test=x_test.toarray()\n",
    "x_test=np.column_stack((x_test,np.ones([x_test.shape[0],1]))) #add bias \n",
    "x_test=np.column_stack((x_test,np.ones([x_test.shape[0],1]))) #add bias \n",
    "x_test=x_test.T\n",
    "y_test=y_test.reshape(1,len(y_test)) \n",
    "y_test=y_test.astype(np.int)  # float->int\n",
    "y_test[y_test== -1]=0"
   ]
  },
  {
   "cell_type": "code",
   "execution_count": 10,
   "metadata": {},
   "outputs": [],
   "source": [
    "# Initialize parameter   \n",
    "iterations=1000\n",
    "alpha_nag = 0.5# learning rate\n",
    "alpha_rms=0.5\n",
    "alpha_adam=0.05\n",
    "threshold=0.5 # mark the sample whose predict scores greater than the threshold as positive, on the contrary as negative.\n",
    "W = np.zeros((x_train.shape[0],y_train.shape[0])) # weights\n",
    "loss_nag,loss_nag_train,accuracy_nag,accuracy_nag_train=nag(W,x_train, y_train, x_test, y_test,alpha_nag,iterations)\n",
    "W = np.zeros((x_train.shape[0],y_train.shape[0])) # weights\n",
    "loss_rms,loss_rms_train,accuracy_rms,accuracy_rms_train=rmsprop(W,x_train, y_train, x_test, y_test,alpha_rms,iterations)\n",
    "W = np.zeros((x_train.shape[0],y_train.shape[0])) # weights\n",
    "loss_adad,loss_adad_train,accuracy_adad,accuracy_adad_train=adaDelta(W,x_train, y_train, x_test, y_test,iterations)\n",
    "W = np.zeros((x_train.shape[0],y_train.shape[0])) # weights\n",
    "loss_adam,loss_adam_train,accuracy_adam,accuracy_adam_train=adam(W,x_train, y_train, x_test, y_test,alpha_adam,iterations)"
   ]
  },
  {
   "cell_type": "code",
   "execution_count": 14,
   "metadata": {},
   "outputs": [
    {
     "name": "stdout",
     "output_type": "stream",
     "text": [
      "training accuracy_nag= 0.7591904425539756   testing accuracy_nag= 0.7637737239727289\n",
      "\n",
      "training accuracy_rms= 0.7773102791683302   testing accuracy_rms= 0.7813402125176586\n",
      "\n",
      "training accuracy_adad= 0.7591904425539756   testing accuracy_adad= 0.7637737239727289\n",
      "\n",
      "training accuracy_adam= 0.8284450723257886   testing accuracy_adam= 0.8298016092377618\n"
     ]
    },
    {
     "data": {
      "image/png": "[encoded data removed]",
      "text/plain": [
       "<matplotlib.figure.Figure at 0xbe37c50>"
      ]
     },
     "metadata": {},
     "output_type": "display_data"
    }
   ],
   "source": [
    "print('training accuracy_nag=',accuracy_nag_train,'  testing accuracy_nag=',accuracy_nag)\n",
    "print('\\ntraining accuracy_rms=',accuracy_rms_train,'  testing accuracy_rms=',accuracy_rms)\n",
    "print('\\ntraining accuracy_adad=',accuracy_adad_train,'  testing accuracy_adad=',accuracy_adad)\n",
    "print('\\ntraining accuracy_adam=',accuracy_adam_train,'  testing accuracy_adam=',accuracy_adam)\n",
    "pyplot.plot(loss_nag,'blue',label='L_NAG')\n",
    "pyplot.plot(loss_rms,'red',label='L_RMSProp')\n",
    "pyplot.plot(loss_adad,'yellow',label='L_AdaDelta')\n",
    "pyplot.plot(loss_adam,'green',label='L_adam')\n",
    "pyplot.title('Loss Curve') # give plot a title\n",
    "pyplot.xlabel('Rounds')# make axis labels\n",
    "pyplot.ylabel('Testing Loss')\n",
    "pyplot.legend()\n",
    "pyplot.show()"
   ]
  },
  {
   "cell_type": "code",
   "execution_count": 15,
   "metadata": {},
   "outputs": [
    {
     "data": {
      "image/png": "[encoded data removed]",
      "text/plain": [
       "<matplotlib.figure.Figure at 0xbde1ba8>"
      ]
     },
     "metadata": {},
     "output_type": "display_data"
    }
   ],
   "source": [
    "pyplot.plot(loss_nag_train,'blue',label='L_NAG')\n",
    "pyplot.plot(loss_rms_train,'red',label='L_RMSProp')\n",
    "pyplot.plot(loss_adad_train,'yellow',label='L_AdaDelta')\n",
    "pyplot.plot(loss_adam_train,'green',label='L_adam')\n",
    "pyplot.title('Loss Curve') # give plot a title\n",
    "pyplot.xlabel('Rounds')# make axis labels\n",
    "pyplot.ylabel('Training Loss')\n",
    "pyplot.legend()\n",
    "pyplot.show()"
   ]
  },
  {
   "cell_type": "code",
   "execution_count": null,
   "metadata": {},
   "outputs": [],
   "source": []
  }
 ],
 "metadata": {
  "kernelspec": {
   "display_name": "Python 3",
   "language": "python",
   "name": "python3"
  },
  "language_info": {
   "codemirror_mode": {
    "name": "ipython",
    "version": 3
   },
   "file_extension": ".py",
   "mimetype": "text/x-python",
   "name": "python",
   "nbconvert_exporter": "python",
   "pygments_lexer": "ipython3",
   "version": "3.6.3"
  }
 },
 "nbformat": 4,
 "nbformat_minor": 2
}
